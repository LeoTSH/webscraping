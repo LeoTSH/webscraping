{
 "cells": [
  {
   "cell_type": "code",
   "execution_count": 6,
   "metadata": {
    "scrolled": false
   },
   "outputs": [
    {
     "name": "stdout",
     "output_type": "stream",
     "text": [
      "---Completed in 62.166436195373535 seconds---\n"
     ]
    }
   ],
   "source": [
    "import pandas\n",
    "import requests\n",
    "import time\n",
    "import re\n",
    "from bs4 import BeautifulSoup\n",
    "\n",
    "file_in = pandas.read_csv('./Example File.csv')\n",
    "\n",
    "# Function to verify if any of the profiles are in edit mode, banned or, private\n",
    "def check_status(file_in, column):\n",
    "    '''\n",
    "        Args:\n",
    "            file_in: Pandas Dataframe from csv file\n",
    "            column : Column containing Steam profiles to be checked (May range from 1 to 4 or 1 depending on how data is formatted)\n",
    "\n",
    "        Outputs:\n",
    "            private.csv: csv file containing all profiles which are in private mode\n",
    "            ban.csv    : csv file containing all profiles which have ban records\n",
    "            edit.csv   : csv file containing all profiles which are in edit mode     \n",
    "    '''\n",
    "    start_time = time.time()\n",
    "    index = column.split(' ')[-1]\n",
    "    ban = []\n",
    "    private = []\n",
    "    edit_data = file_in[file_in[column].str.contains('/edit')]\n",
    "    for row in range(0, len(file_in)):\n",
    "        post_profile = requests.get(file_in[column][row])\n",
    "        # Time-out to avoid spamming\n",
    "        time.sleep(1)\n",
    "        profile_data = BeautifulSoup(post_profile.text, 'html.parser')\n",
    "        if profile_data.find(class_ = 'profile_ban') != None:\n",
    "            ban_data = {\n",
    "                'Name': file_in['Full Name ' + str(index)][row],\n",
    "                'IGN': file_in['In-game Name ' + str(index)][row],\n",
    "                'ban_record': file_in[column][row]\n",
    "               }\n",
    "            ban.append(ban_data)\n",
    "        elif profile_data.find(class_ = 'profile_private_info') != None:\n",
    "            private_data = {\n",
    "                'Name': file_in['Full Name ' + str(index)][row],\n",
    "                'IGN': file_in['In-game Name ' + str(index)][row],\n",
    "                'private_account': (file_in[column][row])\n",
    "            }\n",
    "            private.append(private_data)\n",
    "        else:\n",
    "            pass\n",
    "    private_pd = pandas.DataFrame(private)\n",
    "    ban_pd = pandas.DataFrame(ban)\n",
    "    private_pd.to_csv('./private.csv')    \n",
    "    ban_pd.to_csv('./ban.csv')\n",
    "    edit_data.to_csv('./edit.csv')\n",
    "    print ('---Completed in %s seconds---' % (time.time() - start_time))\n",
    "\n",
    "# Function to verify if submitted NRIC data is correct\n",
    "# Function currently not in use due to confidential data\n",
    "def check_ic(file_in, column):\n",
    "    '''\n",
    "        Args:\n",
    "            file_in: Pandas Dataframe from csv file\n",
    "            column : Column containing NRIC entries to be checked\n",
    "\n",
    "        Outputs:\n",
    "            ic.csv: csv file containing all entries which invalid NRIC entries\n",
    "    '''\n",
    "    index = column.split(' ')[-1]\n",
    "    failed_ic = []\n",
    "    nric = re.compile(r'[STGstg]\\d{7}[A-Za-z]')\n",
    "    for row in range(0, len(file_in)):\n",
    "        if not nric.match(str(file_in[column][row])):\n",
    "            failed_ic_data = {\n",
    "                'IGN': file_in['In-game Name ' + str(index)][row],\n",
    "                'Name': file_in['Full Name ' + str(index)][row],                \n",
    "                'IC': file_in[column][row]                                               \n",
    "            }\n",
    "            failed_ic.append(failed_ic_data)\n",
    "        else:\n",
    "            pass\n",
    "    convert_df = pandas.DataFrame(failed_ic)\n",
    "    convert_df.to_csv('./ic.csv')\n",
    "\n",
    "check_status(file_in, 'Steam Profile URL 4')\n",
    "#check_ic(file_in, 'NRIC/FIN 3')"
   ]
  }
 ],
 "metadata": {
  "kernelspec": {
   "display_name": "Python 3",
   "language": "python",
   "name": "python3"
  },
  "language_info": {
   "codemirror_mode": {
    "name": "ipython",
    "version": 3
   },
   "file_extension": ".py",
   "mimetype": "text/x-python",
   "name": "python",
   "nbconvert_exporter": "python",
   "pygments_lexer": "ipython3",
   "version": "3.6.4"
  }
 },
 "nbformat": 4,
 "nbformat_minor": 2
}
