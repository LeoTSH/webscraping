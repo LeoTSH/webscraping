{
 "cells": [
  {
   "cell_type": "code",
   "execution_count": 1,
   "metadata": {},
   "outputs": [],
   "source": [
    "import requests\n",
    "import pandas as pd\n",
    "import matplotlib.pyplot as plt\n",
    "from bs4 import BeautifulSoup\n",
    "\n",
    "# Create request/session object\n",
    "s = requests.Session()\n",
    "\n",
    "# Request website\n",
    "r = s.get('http://www.oreilly.com/programming/free/')\n",
    "\n",
    "# Parse website data into BeautifulSoup\n",
    "soup = BeautifulSoup(r.text, 'html.parser')\n",
    "\n",
    "# Create title filters\n",
    "java_filter = ['Microservices for Java Developers: A Hands-On Introduction to Frameworks and Containers', \\\n",
    "               'Modern Java EE Design Patterns', 'Object-Oriented vs. Functional Programming', 'Java: The Legend']\n",
    "\n",
    "python_filter = ['A Whirlwind Tour of Python', \"20 Python Libraries You Aren't Using (But Should)\", 'Hadoop with Python', \\\n",
    "                'How to Make Mistakes in Python', 'Functional Programming in Python', 'Python in Education', \\\n",
    "                'Picking a Python Version: A Manifesto']\n",
    "\n",
    "open_filter = ['Open Source in Brazil: Growing Despite Barriers', 'Ten Steps to Linux Survival', 'Open by Design', \\\n",
    "               'Getting Started with InnerSource']\n",
    "\n",
    "soft_filter=['Designing Autonomous Teams and Services', 'Migrating Java to the Cloud', 'What Is Serverless?', \\\n",
    "            'Microservices in Production: Standard Principles and Requirements', 'Microservices AntiPatterns and Pitfalls',\\\n",
    "            'Evolving Architectures of FinTech: Structuring a New Generation of Financial Services with Modular Software and Agile Development Strategies',\\\n",
    "            'Software Architecture Patterns', 'Migrating to Cloud-Native Application Architectures']\n",
    "\n",
    "# Function to check title against filter lists\n",
    "def check_category(title):\n",
    "    if title in java_filter:\n",
    "        return 'Java'\n",
    "    elif title in python_filter:\n",
    "        return 'Python'\n",
    "    elif title in open_filter:\n",
    "        return 'Open Source'\n",
    "    elif title in soft_filter:\n",
    "        return 'Software Architecture'\n",
    "    else:\n",
    "        return 'Other'"
   ]
  },
  {
   "cell_type": "code",
   "execution_count": 2,
   "metadata": {
    "scrolled": false
   },
   "outputs": [],
   "source": [
    "# BeautifulSoup to find all div tags with class product-row cover-showcase\n",
    "website_data = soup.find_all('div', class_ = 'product-row cover-showcase')"
   ]
  },
  {
   "cell_type": "code",
   "execution_count": 3,
   "metadata": {},
   "outputs": [],
   "source": [
    "# Initialize empty list\n",
    "info = []\n",
    "\n",
    "# Iterate each section of product-row cover-showcase and extract book information\n",
    "for data in range(0, len(website_data)):\n",
    "    book_info = website_data[data].find_all('a')\n",
    "    for content in range(0, len(book_info)):\n",
    "        book = {            \n",
    "            'Description': book_info[content]['data-content'],\n",
    "            'Title': book_info[content]['title'],\n",
    "            'Category': check_category(book_info[content]['title'])\n",
    "        }\n",
    "        info.append(book)"
   ]
  },
  {
   "cell_type": "code",
   "execution_count": 4,
   "metadata": {},
   "outputs": [
    {
     "data": {
      "text/plain": [
       "Other                    13\n",
       "Software Architecture     8\n",
       "Python                    7\n",
       "Open Source               4\n",
       "Java                      4\n",
       "Name: Category, dtype: int64"
      ]
     },
     "execution_count": 4,
     "metadata": {},
     "output_type": "execute_result"
    }
   ],
   "source": [
    "# Convert list to dataframe and write to csv\n",
    "df = pd.DataFrame(info)\n",
    "df.to_csv('./oreilly-free-books.csv')\n",
    "\n",
    "# Display number of each category\n",
    "df.Category.value_counts()"
   ]
  },
  {
   "cell_type": "code",
   "execution_count": 7,
   "metadata": {},
   "outputs": [
    {
     "data": {
      "image/png": "[encoded data removed]",
      "text/plain": [
       "<matplotlib.figure.Figure at 0x273f08e71d0>"
      ]
     },
     "metadata": {},
     "output_type": "display_data"
    }
   ],
   "source": [
    "# Plot simple histogram using count of books\n",
    "plt.hist(df.Category)\n",
    "plt.xlabel('Categories')\n",
    "plt.ylabel('Number of books in each category')\n",
    "plt.show()"
   ]
  }
 ],
 "metadata": {
  "kernelspec": {
   "display_name": "Python 3",
   "language": "python",
   "name": "python3"
  },
  "language_info": {
   "codemirror_mode": {
    "name": "ipython",
    "version": 3
   },
   "file_extension": ".py",
   "mimetype": "text/x-python",
   "name": "python",
   "nbconvert_exporter": "python",
   "pygments_lexer": "ipython3",
   "version": "3.6.3"
  }
 },
 "nbformat": 4,
 "nbformat_minor": 2
}
