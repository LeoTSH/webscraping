{
 "cells": [
  {
   "cell_type": "code",
   "execution_count": 1,
   "metadata": {
    "scrolled": true
   },
   "outputs": [],
   "source": [
    "# Import BeautilfulSoup and pandas\n",
    "from bs4 import BeautifulSoup\n",
    "import pandas as pd\n",
    "\n",
    "# Locates table class in BeautilfulSoup object, extract table values and stores them in a list\n",
    "def get_all_entries(soup):\n",
    "    flights = []\n",
    "    table = soup.find('table', class_ = 'dataTDRight')\n",
    "    # Skip column headers row\n",
    "    for rows in table.findAll('tr')[1:]:\n",
    "        cell_values = rows.findAll('td')\n",
    "        if (cell_values[1].text == 'TOTAL'):\n",
    "            continue\n",
    "        else:\n",
    "            flight_entry = {\n",
    "                'year': cell_values[0].text,\n",
    "                'month': cell_values[1].text,\n",
    "                'domestic': cell_values[2].text.replace(',', ''),\n",
    "                'international': cell_values[3].text.replace(',', ''),\n",
    "                'total': cell_values[4].text.replace(',', '')\n",
    "            }\n",
    "            flights.append(flight_entry)\n",
    "    return flights"
   ]
  },
  {
   "cell_type": "code",
   "execution_count": 2,
   "metadata": {
    "scrolled": true
   },
   "outputs": [],
   "source": [
    "# Set html object\n",
    "html = 'allCarriers_and_allAirports.html'\n",
    "\n",
    "# Create BeautilfulSoup object\n",
    "soup = BeautifulSoup(open(html), 'html.parser')\n",
    "\n",
    "# Get list of flights based on html file\n",
    "flight_list = get_all_entries(soup)\n",
    "\n",
    "# Convert list to pandas dataframes\n",
    "df = pd.DataFrame(flight_list)\n",
    "df.head(10)\n",
    "\n",
    "# Save dataframs to csv file\n",
    "df.to_csv('./flight_data.csv')"
   ]
  }
 ],
 "metadata": {
  "kernelspec": {
   "display_name": "Python 3",
   "language": "python",
   "name": "python3"
  },
  "language_info": {
   "codemirror_mode": {
    "name": "ipython",
    "version": 3
   },
   "file_extension": ".py",
   "mimetype": "text/x-python",
   "name": "python",
   "nbconvert_exporter": "python",
   "pygments_lexer": "ipython3",
   "version": "3.6.4"
  }
 },
 "nbformat": 4,
 "nbformat_minor": 2
}
