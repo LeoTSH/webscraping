{
 "cells": [
  {
   "cell_type": "code",
   "execution_count": 3,
   "metadata": {},
   "outputs": [
    {
     "name": "stdout",
     "output_type": "stream",
     "text": [
      "---Completed in 0.1278398036956787 seconds---\n"
     ]
    }
   ],
   "source": [
    "# Import BeautifulSoup\n",
    "from bs4 import BeautifulSoup\n",
    "import time\n",
    "import pandas as pd\n",
    "\n",
    "# Extract field values \n",
    "def options(soup, id):\n",
    "    '''\n",
    "    Args:\n",
    "        soup: html file to open\n",
    "        id: field name to extract values from (In this case, CarrierList or AirportList)\n",
    "        \n",
    "    Returns:\n",
    "        values of specified id fields\n",
    "    '''\n",
    "    option_values = []\n",
    "    results = []\n",
    "    carrier_list = soup.find(id = id)\n",
    "    for option in carrier_list.find_all('option'):\n",
    "        option_values.append(option['value'])\n",
    "    for value in option_values:\n",
    "        results.append(value)\n",
    "    return results\n",
    "\n",
    "# Start timer\n",
    "start_time = time.time()\n",
    "\n",
    "# Create BeautifulSoup object (html), parsing in saved html file\n",
    "soup = BeautifulSoup(open('allCarriers_and_allAirports.html'), 'html.parser')\n",
    "\n",
    "# Convert lists to pandas dataframes\n",
    "carriers_pd = pd.DataFrame(options(soup, 'CarrierList'))\n",
    "airports_pd = pd.DataFrame(options(soup, 'AirportList'))\n",
    "\n",
    "# Saved dataframs to csv files\n",
    "carriers_pd.to_csv('./carriers.csv')\n",
    "airports_pd.to_csv('./airports.csv')\n",
    "print ('---Completed in %s seconds---' % (time.time() - start_time))"
   ]
  }
 ],
 "metadata": {
  "kernelspec": {
   "display_name": "Python 3",
   "language": "python",
   "name": "python3"
  },
  "language_info": {
   "codemirror_mode": {
    "name": "ipython",
    "version": 3
   },
   "file_extension": ".py",
   "mimetype": "text/x-python",
   "name": "python",
   "nbconvert_exporter": "python",
   "pygments_lexer": "ipython3",
   "version": "3.6.4"
  }
 },
 "nbformat": 4,
 "nbformat_minor": 2
}
