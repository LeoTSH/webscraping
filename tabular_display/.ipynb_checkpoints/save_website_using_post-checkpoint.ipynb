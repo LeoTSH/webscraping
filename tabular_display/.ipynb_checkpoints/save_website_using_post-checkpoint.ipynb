{
 "cells": [
  {
   "cell_type": "code",
   "execution_count": 1,
   "metadata": {},
   "outputs": [
    {
     "name": "stdout",
     "output_type": "stream",
     "text": [
      "---Completed in 13.416435241699219 seconds---\n"
     ]
    }
   ],
   "source": [
    "# Import required libraries\n",
    "import requests\n",
    "import time\n",
    "from bs4 import BeautifulSoup\n",
    "\n",
    "'''\n",
    "    Examination of website has to be performed beforehand to obtain elements information\n",
    "    Extract viewstate and eventvalidation values and use them as arguments\n",
    "    Creates a post object to request for data based on all carriers and airports\n",
    "    Maintains a session request to prevent expiration\n",
    "    Save website in an offline html file\n",
    "'''\n",
    "\n",
    "# Start timer\n",
    "start_time = time.time()\n",
    "\n",
    "# Create session\n",
    "s = requests.Session()\n",
    "\n",
    "# Get webpage session\n",
    "r = s.get('https://www.transtats.bts.gov/Data_Elements.aspx?Data=2')\n",
    "\n",
    "# Create BeautifulSoup object\n",
    "soup = BeautifulSoup(r.text, 'html.parser')\n",
    "\n",
    "# Find values of viewstate and eventvalidation elements\n",
    "viewstate_element = soup.find(id='__VIEWSTATE')\n",
    "viewstate = viewstate_element['value']\n",
    "eventvalidation_element = soup.find(id='__EVENTVALIDATION')\n",
    "eventvalidation = eventvalidation_element['value']\n",
    "\n",
    "# Create http post object\n",
    "r = s.post('https://www.transtats.bts.gov/Data_Elements.aspx?Data=2',\n",
    "          data = {\n",
    "              '__EVENTTARGET': '',\n",
    "              '__EVENTARGUMENT': '',\n",
    "              '__VIEWSTATE': viewstate,\n",
    "              '__VIEWSTATEGENERATOR':'8E3A4798',\n",
    "              '__EVENTVALIDATION':eventvalidation,\n",
    "              'CarrierList': 'All',\n",
    "              'AirportList': 'All',\n",
    "              'Submit': 'Submit'\n",
    "          })\n",
    "\n",
    "# Create file and write to it\n",
    "f = open('allCarriers_and_allAirports.html', 'w')\n",
    "f.write(r.text)\n",
    "print ('---Completed in %s seconds---' % (time.time() - start_time))"
   ]
  }
 ],
 "metadata": {
  "kernelspec": {
   "display_name": "Python 3",
   "language": "python",
   "name": "python3"
  },
  "language_info": {
   "codemirror_mode": {
    "name": "ipython",
    "version": 3
   },
   "file_extension": ".py",
   "mimetype": "text/x-python",
   "name": "python",
   "nbconvert_exporter": "python",
   "pygments_lexer": "ipython3",
   "version": "3.6.4"
  }
 },
 "nbformat": 4,
 "nbformat_minor": 2
}
